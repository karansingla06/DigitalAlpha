{
 "cells": [
  {
   "cell_type": "code",
   "execution_count": 1,
   "metadata": {},
   "outputs": [],
   "source": [
    "import numpy as np\n",
    "import pandas as pd\n",
    "import matplotlib.pyplot as plt\n",
    "from collections import Counter\n",
    "from sklearn import feature_extraction, model_selection, naive_bayes, metrics, svm\n",
    "from IPython.display import Image\n",
    "import warnings\n",
    "warnings.filterwarnings(\"ignore\")\n",
    "%matplotlib inline  "
   ]
  },
  {
   "cell_type": "code",
   "execution_count": 2,
   "metadata": {},
   "outputs": [
    {
     "data": {
      "text/plain": [
       "(4601, 58)"
      ]
     },
     "execution_count": 2,
     "metadata": {},
     "output_type": "execute_result"
    }
   ],
   "source": [
    "df=pd.read_csv(\"C:/Users/user/Desktop/spambase.csv\")\n",
    "df.head()\n",
    "df.shape"
   ]
  },
  {
   "cell_type": "code",
   "execution_count": 3,
   "metadata": {},
   "outputs": [
    {
     "name": "stdout",
     "output_type": "stream",
     "text": [
      "['word_freq_make', 'word_freq_address', 'word_freq_all', 'word_freq_3d', 'word_freq_our       ', 'word_freq_over     ', 'word_freq_remove      ', 'word_freq_internet   ', 'word_freq_order        ', 'word_freq_mail       ', 'word_freq_receive     ', 'word_freq_will        ', 'word_freq_people      ', 'word_freq_report      ', 'word_freq_addresses    ', 'word_freq_free         ', 'word_freq_business     ', 'word_freq_email        ', 'word_freq_you:          ', 'word_freq_credit      ', 'word_freq_your        ', 'word_freq_font         ', 'word_freq_000         ', 'word_freq_money        ', 'word_freq_hp          ', 'word_freq_hpl          ', 'word_freq_george       ', 'word_freq_650          ', 'word_freq_lab        ', 'word_freq_labs        ', 'word_freq_telnet       ', 'word_freq_857          ', 'word_freq_data         ', 'word_freq_415          ', 'word_freq_85           ', 'word_freq_technology   ', 'word_freq_1999         ', 'word_freq_parts        ', 'word_freq_pm           ', 'word_freq_direct       ', 'word_freq_cs           ', 'word_freq_meeting     ', 'word_freq_original     ', 'word_freq_project      ', 'word_freq_re           ', 'word_freq_edu         ', 'word_freq_table        ', 'word_freq_conference  ', 'char_freq_;           ', 'char_freq_(          ', 'char_freq_[            ', 'char_freq_!            ', 'char_freq_$            ', 'char_freq_#            ', 'capital_run_length_average', 'capital_run_length_longest', 'capital_run_length_total', 'class']\n"
     ]
    },
    {
     "data": {
      "text/plain": [
       "['word_freq_make',\n",
       " 'word_freq_address',\n",
       " 'word_freq_all',\n",
       " 'word_freq_3d',\n",
       " 'word_freq_our',\n",
       " 'word_freq_over',\n",
       " 'word_freq_remove',\n",
       " 'word_freq_internet',\n",
       " 'word_freq_order',\n",
       " 'word_freq_mail',\n",
       " 'word_freq_receive',\n",
       " 'word_freq_will',\n",
       " 'word_freq_people',\n",
       " 'word_freq_report',\n",
       " 'word_freq_addresses',\n",
       " 'word_freq_free',\n",
       " 'word_freq_business',\n",
       " 'word_freq_email',\n",
       " 'word_freq_you:',\n",
       " 'word_freq_credit',\n",
       " 'word_freq_your',\n",
       " 'word_freq_font',\n",
       " 'word_freq_000',\n",
       " 'word_freq_money',\n",
       " 'word_freq_hp',\n",
       " 'word_freq_hpl',\n",
       " 'word_freq_george',\n",
       " 'word_freq_650',\n",
       " 'word_freq_lab',\n",
       " 'word_freq_labs',\n",
       " 'word_freq_telnet',\n",
       " 'word_freq_857',\n",
       " 'word_freq_data',\n",
       " 'word_freq_415',\n",
       " 'word_freq_85',\n",
       " 'word_freq_technology',\n",
       " 'word_freq_1999',\n",
       " 'word_freq_parts',\n",
       " 'word_freq_pm',\n",
       " 'word_freq_direct',\n",
       " 'word_freq_cs',\n",
       " 'word_freq_meeting',\n",
       " 'word_freq_original',\n",
       " 'word_freq_project',\n",
       " 'word_freq_re',\n",
       " 'word_freq_edu',\n",
       " 'word_freq_table',\n",
       " 'word_freq_conference',\n",
       " 'char_freq_;',\n",
       " 'char_freq_(',\n",
       " 'char_freq_[',\n",
       " 'char_freq_!',\n",
       " 'char_freq_$',\n",
       " 'char_freq_#',\n",
       " 'capital_run_length_average',\n",
       " 'capital_run_length_longest',\n",
       " 'capital_run_length_total',\n",
       " 'class']"
      ]
     },
     "execution_count": 3,
     "metadata": {},
     "output_type": "execute_result"
    }
   ],
   "source": [
    "print(df.columns.tolist())\n",
    "df.columns = df.columns.str.strip()\n",
    "df.columns.tolist()"
   ]
  },
  {
   "cell_type": "code",
   "execution_count": 4,
   "metadata": {},
   "outputs": [],
   "source": [
    "#df.dropna(axis=0,how='all')"
   ]
  },
  {
   "cell_type": "code",
   "execution_count": 5,
   "metadata": {},
   "outputs": [
    {
     "data": {
      "image/png": "[encoded data removed]",
      "text/plain": [
       "<matplotlib.figure.Figure at 0x8f28c30>"
      ]
     },
     "metadata": {},
     "output_type": "display_data"
    }
   ],
   "source": [
    "count_Class=pd.value_counts(df[\"class\"], sort= True)\n",
    "count_Class.plot(kind= 'bar', color= [\"blue\", \"orange\"])\n",
    "plt.title('Bar chart')\n",
    "plt.show()"
   ]
  },
  {
   "cell_type": "code",
   "execution_count": 8,
   "metadata": {
    "scrolled": true
   },
   "outputs": [
    {
     "name": "stdout",
     "output_type": "stream",
     "text": [
      "Accuracy of Multinomial Naive Bayes classifier on training set: 0.87\n",
      "Accuracy of Multinomial Naive Bayes classifier on test set: 0.88\n",
      "Accuracy of Gaussian Naive Bayes classifier on training set: 0.81\n",
      "Accuracy of Gaussian Naive Bayes classifier on test set: 0.81\n"
     ]
    }
   ],
   "source": [
    "X= df.iloc[:,:48]\n",
    "y= df.iloc[:,-1]\n",
    "\n",
    "from sklearn.cross_validation import train_test_split\n",
    "X_train, X_test, y_train, y_test = train_test_split(X, y, test_size=0.25, random_state=42)\n",
    "\n",
    "from sklearn.naive_bayes import MultinomialNB,GaussianNB\n",
    "clf1 = MultinomialNB()\n",
    "clf2=GaussianNB()\n",
    "\n",
    "clf1.fit(X_train, y_train)\n",
    "clf2.fit(X_train, y_train)\n",
    "\n",
    "#print(clf1.predict(X[1500:2000]))\n",
    "\n",
    "#y_pred = clf1.predict(X_test)\n",
    "print('Accuracy of Multinomial Naive Bayes classifier on training set: {:.2f}'.format(clf1.score(X_train, y_train)))\n",
    "print('Accuracy of Multinomial Naive Bayes classifier on test set: {:.2f}'.format(clf1.score(X_test, y_test)))\n",
    "\n",
    "#y_pred = clf2.predict(X_test)\n",
    "print('Accuracy of Gaussian Naive Bayes classifier on training set: {:.2f}'.format(clf2.score(X_train, y_train)))\n",
    "print('Accuracy of Gaussian Naive Bayes classifier on test set: {:.2f}'.format(clf2.score(X_test, y_test)))"
   ]
  }
 ],
 "metadata": {
  "kernelspec": {
   "display_name": "Python 3",
   "language": "python",
   "name": "python3"
  },
  "language_info": {
   "codemirror_mode": {
    "name": "ipython",
    "version": 3
   },
   "file_extension": ".py",
   "mimetype": "text/x-python",
   "name": "python",
   "nbconvert_exporter": "python",
   "pygments_lexer": "ipython3",
   "version": "3.6.4"
  }
 },
 "nbformat": 4,
 "nbformat_minor": 2
}
